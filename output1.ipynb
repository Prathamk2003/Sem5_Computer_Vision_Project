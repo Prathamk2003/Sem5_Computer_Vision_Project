{
 "cells": [
  {
   "cell_type": "markdown",
   "metadata": {},
   "source": [
    "# Output 1"
   ]
  },
  {
   "cell_type": "code",
   "execution_count": null,
   "metadata": {},
   "outputs": [],
   "source": [
    "import csv\n",
    "import numpy as np\n",
    "from scipy.spatial.transform import Rotation as R"
   ]
  },
  {
   "cell_type": "code",
   "execution_count": null,
   "metadata": {},
   "outputs": [],
   "source": [
    "# Input and output file paths\n",
    "transforms_csv_file = './transforms_output.csv'\n",
    "output_file = './frame_positions_orientations.csv'"
   ]
  },
  {
   "cell_type": "code",
   "execution_count": null,
   "metadata": {},
   "outputs": [],
   "source": [
    "# List to store output rows\n",
    "output_data = []\n",
    "\n",
    "# Read the transformation matrices\n",
    "with open(transforms_csv_file, 'r') as csvfile:\n",
    "    reader = csv.reader(csvfile)\n",
    "    next(reader)  # Skip header\n",
    "    for frame_num, row in enumerate(reader):\n",
    "        # Convert the row to a 4x4 transformation matrix\n",
    "        matrix = np.array(row, dtype=float).reshape((4, 4))\n",
    "        \n",
    "        # Extract the translation (tx, ty, tz) components\n",
    "        tx, ty, tz = matrix[0, 3], matrix[1, 3], matrix[2, 3]\n",
    "        \n",
    "        # Extract the rotation components (3x3 upper-left matrix)\n",
    "        rotation_matrix = matrix[:3, :3]\n",
    "        \n",
    "        # Compute Euler angles (yaw, pitch, roll) in degrees\n",
    "        r = R.from_matrix(rotation_matrix)\n",
    "        yaw, pitch, roll = r.as_euler('zyx', degrees=True)\n",
    "        \n",
    "        # Append the formatted result for the current frame\n",
    "        output_data.append([f\"Frame{frame_num}\", tx, ty, tz, yaw, pitch, roll])"
   ]
  },
  {
   "cell_type": "code",
   "execution_count": null,
   "metadata": {},
   "outputs": [
    {
     "name": "stdout",
     "output_type": "stream",
     "text": [
      "Help on built-in function from_matrix:\n",
      "\n",
      "from_matrix(...) method of builtins.type instance\n",
      "    Rotation.from_matrix(type cls, matrix)\n",
      "    Initialize from rotation matrix.\n",
      "    \n",
      "            Rotations in 3 dimensions can be represented with 3 x 3 proper\n",
      "            orthogonal matrices [1]_. If the input is not proper orthogonal,\n",
      "            an approximation is created using the method described in [2]_.\n",
      "    \n",
      "            Parameters\n",
      "            ----------\n",
      "            matrix : array_like, shape (N, 3, 3) or (3, 3)\n",
      "                A single matrix or a stack of matrices, where ``matrix[i]`` is\n",
      "                the i-th matrix.\n",
      "    \n",
      "            Returns\n",
      "            -------\n",
      "            rotation : `Rotation` instance\n",
      "                Object containing the rotations represented by the rotation\n",
      "                matrices.\n",
      "    \n",
      "            References\n",
      "            ----------\n",
      "            .. [1] https://en.wikipedia.org/wiki/Rotation_matrix#In_three_dimensions\n",
      "            .. [2] F. Landis Markley, \"Unit Quaternion from Rotation Matrix\",\n",
      "                   Journal of guidance, control, and dynamics vol. 31.2, pp.\n",
      "                   440-442, 2008.\n",
      "    \n",
      "            Examples\n",
      "            --------\n",
      "            >>> from scipy.spatial.transform import Rotation as R\n",
      "            >>> import numpy as np\n",
      "    \n",
      "            Initialize a single rotation:\n",
      "    \n",
      "            >>> r = R.from_matrix([\n",
      "            ... [0, -1, 0],\n",
      "            ... [1, 0, 0],\n",
      "            ... [0, 0, 1]])\n",
      "            >>> r.as_matrix().shape\n",
      "            (3, 3)\n",
      "    \n",
      "            Initialize multiple rotations in a single object:\n",
      "    \n",
      "            >>> r = R.from_matrix([\n",
      "            ... [\n",
      "            ...     [0, -1, 0],\n",
      "            ...     [1, 0, 0],\n",
      "            ...     [0, 0, 1],\n",
      "            ... ],\n",
      "            ... [\n",
      "            ...     [1, 0, 0],\n",
      "            ...     [0, 0, -1],\n",
      "            ...     [0, 1, 0],\n",
      "            ... ]])\n",
      "            >>> r.as_matrix().shape\n",
      "            (2, 3, 3)\n",
      "    \n",
      "            If input matrices are not special orthogonal (orthogonal with\n",
      "            determinant equal to +1), then a special orthogonal estimate is stored:\n",
      "    \n",
      "            >>> a = np.array([\n",
      "            ... [0, -0.5, 0],\n",
      "            ... [0.5, 0, 0],\n",
      "            ... [0, 0, 0.5]])\n",
      "            >>> np.linalg.det(a)\n",
      "            0.12500000000000003\n",
      "            >>> r = R.from_matrix(a)\n",
      "            >>> matrix = r.as_matrix()\n",
      "            >>> matrix\n",
      "            array([[-0.38461538, -0.92307692,  0.        ],\n",
      "                   [ 0.92307692, -0.38461538,  0.        ],\n",
      "                   [ 0.        ,  0.        ,  1.        ]])\n",
      "            >>> np.linalg.det(matrix)\n",
      "            1.0000000000000002\n",
      "    \n",
      "            It is also possible to have a stack containing a single rotation:\n",
      "    \n",
      "            >>> r = R.from_matrix([[\n",
      "            ... [0, -1, 0],\n",
      "            ... [1, 0, 0],\n",
      "            ... [0, 0, 1]]])\n",
      "            >>> r.as_matrix()\n",
      "            array([[[ 0., -1.,  0.],\n",
      "                    [ 1.,  0.,  0.],\n",
      "                    [ 0.,  0.,  1.]]])\n",
      "            >>> r.as_matrix().shape\n",
      "            (1, 3, 3)\n",
      "    \n",
      "            Notes\n",
      "            -----\n",
      "            This function was called from_dcm before.\n",
      "    \n",
      "            .. versionadded:: 1.4.0\n",
      "\n"
     ]
    }
   ],
   "source": [
    "help(R.from_matrix)"
   ]
  },
  {
   "cell_type": "code",
   "execution_count": null,
   "metadata": {},
   "outputs": [
    {
     "name": "stdout",
     "output_type": "stream",
     "text": [
      "Positions and orientations successfully written to ./frame_positions_orientations.csv\n"
     ]
    }
   ],
   "source": [
    "# Write output to a CSV file\n",
    "with open(output_file, 'w', newline='') as csvfile:\n",
    "    writer = csv.writer(csvfile)\n",
    "    writer.writerow([\"FrameNum\", \"tx\", \"ty\", \"tz\", \"yaw(degrees)\", \"pitch(degrees)\", \"roll(degrees)\"])  # Header row\n",
    "    writer.writerows(output_data)\n",
    "\n",
    "print(f\"Positions and orientations successfully written to {output_file}\")\n"
   ]
  }
 ],
 "metadata": {
  "language_info": {
   "name": "python"
  }
 },
 "nbformat": 4,
 "nbformat_minor": 2
}
