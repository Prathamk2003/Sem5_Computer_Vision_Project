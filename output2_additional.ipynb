{
 "cells": [
  {
   "cell_type": "code",
   "execution_count": null,
   "metadata": {},
   "outputs": [],
   "source": [
    "import csv\n",
    "import numpy as np\n",
    "from scipy.spatial.transform import Rotation as R"
   ]
  },
  {
   "cell_type": "code",
   "execution_count": null,
   "metadata": {},
   "outputs": [],
   "source": [
    "# Input and output file paths\n",
    "input_file = './frame_positions_orientations.csv'\n",
    "output_file = './relative_transformations.csv'"
   ]
  },
  {
   "cell_type": "code",
   "execution_count": null,
   "metadata": {},
   "outputs": [],
   "source": [
    "# Lists to store the relative transformations\n",
    "relative_transforms = []"
   ]
  },
  {
   "cell_type": "code",
   "execution_count": null,
   "metadata": {},
   "outputs": [],
   "source": [
    "# Read positions and orientations from the CSV file\n",
    "with open(input_file, 'r') as csvfile:\n",
    "    reader = csv.reader(csvfile)\n",
    "    next(reader)  # Skip header row\n",
    "    data = [row for row in reader]"
   ]
  },
  {
   "cell_type": "code",
   "execution_count": null,
   "metadata": {},
   "outputs": [],
   "source": [
    "# Calculate relative transformations\n",
    "for i in range(1, len(data)):\n",
    "    # Current frame's position and orientation\n",
    "    tx1, ty1, tz1 = float(data[i-1][1]), float(data[i-1][2]), float(data[i-1][3])\n",
    "    yaw1, pitch1, roll1 = float(data[i-1][4]), float(data[i-1][5]), float(data[i-1][6])\n",
    "    \n",
    "    # Next frame's position and orientation\n",
    "    tx2, ty2, tz2 = float(data[i][1]), float(data[i][2]), float(data[i][3])\n",
    "    yaw2, pitch2, roll2 = float(data[i][4]), float(data[i][5]), float(data[i][6])\n",
    "    \n",
    "    # Calculate relative position (translation)\n",
    "    delta_tx = tx2 - tx1\n",
    "    delta_ty = ty2 - ty1\n",
    "    delta_tz = tz2 - tz1\n",
    "    \n",
    "    # Convert Euler angles to rotation matrices\n",
    "    rot1 = R.from_euler('zyx', [yaw1, pitch1, roll1], degrees=True)\n",
    "    rot2 = R.from_euler('zyx', [yaw2, pitch2, roll2], degrees=True)\n",
    "    \n",
    "    # Calculate relative rotation matrix from rot1 to rot2\n",
    "    relative_rot_matrix = rot2.inv() * rot1\n",
    "    relative_euler_angles = relative_rot_matrix.as_euler('zyx', degrees=True)\n",
    "    \n",
    "    # Extract relative yaw, pitch, and roll\n",
    "    delta_yaw, delta_pitch, delta_roll = relative_euler_angles\n",
    "    \n",
    "    # Append the relative transformation for the current frame pair\n",
    "    relative_transforms.append([f\"Frame{i-1}_to_Frame{i}\", delta_tx, delta_ty, delta_tz, delta_yaw, delta_pitch, delta_roll])"
   ]
  },
  {
   "cell_type": "code",
   "execution_count": null,
   "metadata": {},
   "outputs": [
    {
     "name": "stdout",
     "output_type": "stream",
     "text": [
      "Relative transformations successfully written to ./relative_transformations2.csv\n"
     ]
    }
   ],
   "source": [
    "# Write the relative transformations to a CSV file\n",
    "with open(output_file, 'w', newline='') as csvfile:\n",
    "    writer = csv.writer(csvfile)\n",
    "    writer.writerow([\"Frame_Pair\", \"Delta_tx\", \"Delta_ty\", \"Delta_tz\", \"Delta_yaw(degrees)\", \"Delta_pitch(degrees)\", \"Delta_roll(degrees)\"])  # Header row\n",
    "    writer.writerows(relative_transforms)\n",
    "\n",
    "print(f\"Relative transformations successfully written to {output_file}\")\n"
   ]
  }
 ],
 "metadata": {
  "language_info": {
   "name": "python"
  }
 },
 "nbformat": 4,
 "nbformat_minor": 2
}
